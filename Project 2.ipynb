{
 "cells": [
  {
   "cell_type": "markdown",
   "id": "af57e190",
   "metadata": {},
   "source": [
    "# Programming for Data Analytics Project 2\n",
    "***"
   ]
  },
  {
   "cell_type": "markdown",
   "id": "39d64b11",
   "metadata": {},
   "source": [
    "_Breeda Herlihy G0041136_"
   ]
  },
  {
   "cell_type": "markdown",
   "id": "c83a57a3",
   "metadata": {},
   "source": [
    "## Overview and Background Wisconsin Breast Cancer Dataset"
   ]
  },
  {
   "cell_type": "markdown",
   "id": "c96e8913",
   "metadata": {},
   "source": [
    "## Literature review of classifiers"
   ]
  },
  {
   "cell_type": "markdown",
   "id": "58c326d5",
   "metadata": {},
   "source": [
    "## Analysis of Dataset"
   ]
  },
  {
   "cell_type": "markdown",
   "id": "bf4df59a",
   "metadata": {},
   "source": [
    "## Training classifiers"
   ]
  },
  {
   "cell_type": "markdown",
   "id": "f1c8960b",
   "metadata": {},
   "source": [
    "## Results and Discussion"
   ]
  },
  {
   "cell_type": "code",
   "execution_count": null,
   "id": "92f522ec",
   "metadata": {},
   "outputs": [],
   "source": []
  }
 ],
 "metadata": {
  "kernelspec": {
   "display_name": "Python 3 (ipykernel)",
   "language": "python",
   "name": "python3"
  },
  "language_info": {
   "codemirror_mode": {
    "name": "ipython",
    "version": 3
   },
   "file_extension": ".py",
   "mimetype": "text/x-python",
   "name": "python",
   "nbconvert_exporter": "python",
   "pygments_lexer": "ipython3",
   "version": "3.9.7"
  }
 },
 "nbformat": 4,
 "nbformat_minor": 5
}
